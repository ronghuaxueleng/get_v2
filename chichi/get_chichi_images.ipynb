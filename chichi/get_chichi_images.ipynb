{
    "cells": [
        {
            "cell_type": "markdown",
            "metadata": {
                "id": "view-in-github"
            },
            "source": [
                "<a href=\"https://colab.research.google.com/github/ronghuaxueleng/get_v2/blob/main/chichi/get_chichi_images.ipynb\" target=\"_parent\"><img src=\"https://colab.research.google.com/assets/colab-badge.svg\" alt=\"Open In Colab\"/></a>"
            ]
        },
        {
            "cell_type": "markdown",
            "metadata": {
                "id": "yw-ci4cMyqey"
            },
            "source": [
                "# 克隆代码"
            ]
        },
        {
            "cell_type": "code",
            "execution_count": null,
            "metadata": {
                "id": "3lqVkdVbnnXm"
            },
            "outputs": [],
            "source": [
                "! git clone https://github.com/ronghuaxueleng/get_v2.git\n",
                "%cd get_v2 \n",
                "! pip install -r requirements.txt\n",
                "%cd chichi\n",
                "! python get_root_urls.py\n",
                "\n",
                "from google.colab import drive\n",
                "drive.mount('/content/drive')\n",
                "! zip -r chichi_images.zip images\n",
                "! cp chichi_images.zip /content/drive/MyDrive/"
            ]
        }
    ],
    "metadata": {
        "colab": {
            "provenance": []
        },
        "kernelspec": {
            "display_name": "Python 3",
            "name": "python3"
        },
        "language_info": {
            "name": "python"
        }
    },
    "nbformat": 4,
    "nbformat_minor": 0
}
